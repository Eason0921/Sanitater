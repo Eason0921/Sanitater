{
 "cells": [
  {
   "cell_type": "code",
   "execution_count": 1,
   "id": "1eae6131",
   "metadata": {},
   "outputs": [],
   "source": [
    "import torch\n",
    "import torchvision as tv\n",
    "import torchvision.transforms as transforms\n",
    "import torch.nn as nn\n",
    "import torch.optim as optim\n",
    "import argparse"
   ]
  },
  {
   "cell_type": "code",
   "execution_count": 2,
   "id": "90584b6b",
   "metadata": {},
   "outputs": [],
   "source": [
    "# 定义是否使用GPU\n",
    "device = torch.device(\"cuda\" if torch.cuda.is_available() else \"cpu\")"
   ]
  },
  {
   "cell_type": "code",
   "execution_count": 3,
   "id": "0d48ce21",
   "metadata": {},
   "outputs": [],
   "source": [
    "# 定义网络结构\n",
    "class LeNet(nn.Module):\n",
    "    def __init__(self):\n",
    "        super(LeNet, self).__init__()\n",
    "        self.conv1 = nn.Sequential(     #input_size=(1*28*28)\n",
    "            nn.Conv2d(1, 6, 5, 1, 2), #padding=2保证输入输出尺寸相同\n",
    "            nn.ReLU(),      #input_size=(6*28*28)\n",
    "            nn.MaxPool2d(kernel_size=2, stride=2),#output_size=(6*14*14)\n",
    "        )\n",
    "        self.conv2 = nn.Sequential(\n",
    "            nn.Conv2d(6, 16, 5),\n",
    "            nn.ReLU(),      #input_size=(16*10*10)\n",
    "            nn.MaxPool2d(2, 2)  #output_size=(16*5*5)\n",
    "        )\n",
    "        self.fc1 = nn.Sequential(\n",
    "            nn.Linear(16 * 5 * 5, 120),\n",
    "            nn.ReLU()\n",
    "        )\n",
    "        self.fc2 = nn.Sequential(\n",
    "            nn.Linear(120, 84),\n",
    "            nn.ReLU()\n",
    "        )\n",
    "        self.fc3 = nn.Linear(84, 10)\n",
    "         # 定义前向传播过程，输入为x\n",
    "    def forward(self, x):\n",
    "        x = self.conv1(x)\n",
    "        x = self.conv2(x)\n",
    "        # nn.Linear()的输入输出都是维度为一的值，所以要把多维度的tensor展平成一维\n",
    "        x = x.view(x.size()[0], -1)\n",
    "        x = self.fc1(x)\n",
    "        x = self.fc2(x)\n",
    "        x = self.fc3(x)\n",
    "        return x\n"
   ]
  },
  {
   "cell_type": "code",
   "execution_count": 4,
   "id": "2926ef06",
   "metadata": {},
   "outputs": [],
   "source": [
    "#使得我们能够手动输入命令行参数，就是让风格变得和Linux命令行差不多\n",
    "parser = argparse.ArgumentParser()\n",
    "parser.add_argument('--outf', default='./model/', help='folder to output images and model checkpoints') #模型保存路径\n",
    "parser.add_argument('--net', default='./model/net.pth', help=\"path to netG (to continue training)\")  #模型加载路径\n",
    "opt = parser.parse_args(args=[])"
   ]
  },
  {
   "cell_type": "code",
   "execution_count": 5,
   "id": "1d1f2d32",
   "metadata": {},
   "outputs": [],
   "source": [
    "# 超参数设置\n",
    "EPOCH = 8   #遍历数据集次数\n",
    "BATCH_SIZE = 64      #批处理尺寸(batch_size)\n",
    "LR = 0.001        #学习率"
   ]
  },
  {
   "cell_type": "code",
   "execution_count": 6,
   "id": "ddc03641",
   "metadata": {},
   "outputs": [],
   "source": [
    "# 定义数据预处理方式\n",
    "transform = transforms.ToTensor()"
   ]
  },
  {
   "cell_type": "code",
   "execution_count": 7,
   "id": "118f951e",
   "metadata": {},
   "outputs": [],
   "source": [
    "# 定义训练数据集\n",
    "trainset = tv.datasets.MNIST(\n",
    "    root='./data/',\n",
    "    train=True,\n",
    "    download=True,\n",
    "    transform=transform)"
   ]
  },
  {
   "cell_type": "code",
   "execution_count": 8,
   "id": "8247733b",
   "metadata": {},
   "outputs": [],
   "source": [
    "# 定义训练批处理数据\n",
    "trainloader = torch.utils.data.DataLoader(\n",
    "    trainset,\n",
    "    batch_size=BATCH_SIZE,\n",
    "    shuffle=True,\n",
    "    )"
   ]
  },
  {
   "cell_type": "code",
   "execution_count": 9,
   "id": "8b1a136e",
   "metadata": {},
   "outputs": [],
   "source": [
    "# 定义测试数据集\n",
    "testset = tv.datasets.MNIST(\n",
    "    root='./data/',\n",
    "    train=False,\n",
    "    download=True,\n",
    "    transform=transform)"
   ]
  },
  {
   "cell_type": "code",
   "execution_count": 10,
   "id": "aece2417",
   "metadata": {},
   "outputs": [],
   "source": [
    "# 定义测试批处理数据\n",
    "testloader = torch.utils.data.DataLoader(\n",
    "    testset,\n",
    "    batch_size=BATCH_SIZE,\n",
    "    shuffle=False,\n",
    "    )"
   ]
  },
  {
   "cell_type": "code",
   "execution_count": 11,
   "id": "20aa27f1",
   "metadata": {},
   "outputs": [],
   "source": [
    "# 定义损失函数loss function 和优化方式（采用SGD）\n",
    "net = LeNet().to(device)\n",
    "criterion = nn.CrossEntropyLoss()  # 交叉熵损失函数，通常用于多分类问题上\n",
    "optimizer = optim.SGD(net.parameters(), lr=LR, momentum=0.9)"
   ]
  },
  {
   "cell_type": "code",
   "execution_count": 12,
   "id": "f97dd8b6",
   "metadata": {},
   "outputs": [
    {
     "name": "stdout",
     "output_type": "stream",
     "text": [
      "[1, 100] loss: 2.305\n",
      "[1, 200] loss: 2.301\n",
      "[1, 300] loss: 2.295\n",
      "[1, 400] loss: 2.289\n",
      "[1, 500] loss: 2.280\n",
      "[1, 600] loss: 2.266\n",
      "[1, 700] loss: 2.231\n",
      "[1, 800] loss: 2.126\n",
      "[1, 900] loss: 1.739\n",
      "第1个epoch的识别准确率为：74%\n",
      "[2, 100] loss: 0.827\n",
      "[2, 200] loss: 0.629\n",
      "[2, 300] loss: 0.554\n",
      "[2, 400] loss: 0.480\n",
      "[2, 500] loss: 0.459\n",
      "[2, 600] loss: 0.401\n",
      "[2, 700] loss: 0.375\n",
      "[2, 800] loss: 0.361\n",
      "[2, 900] loss: 0.354\n",
      "第2个epoch的识别准确率为：91%\n",
      "[3, 100] loss: 0.312\n",
      "[3, 200] loss: 0.308\n",
      "[3, 300] loss: 0.296\n",
      "[3, 400] loss: 0.269\n",
      "[3, 500] loss: 0.261\n",
      "[3, 600] loss: 0.256\n",
      "[3, 700] loss: 0.240\n",
      "[3, 800] loss: 0.223\n",
      "[3, 900] loss: 0.239\n",
      "第3个epoch的识别准确率为：93%\n",
      "[4, 100] loss: 0.222\n",
      "[4, 200] loss: 0.215\n",
      "[4, 300] loss: 0.197\n",
      "[4, 400] loss: 0.181\n",
      "[4, 500] loss: 0.181\n",
      "[4, 600] loss: 0.187\n",
      "[4, 700] loss: 0.180\n",
      "[4, 800] loss: 0.171\n",
      "[4, 900] loss: 0.159\n",
      "第4个epoch的识别准确率为：95%\n",
      "[5, 100] loss: 0.144\n",
      "[5, 200] loss: 0.168\n",
      "[5, 300] loss: 0.152\n",
      "[5, 400] loss: 0.140\n",
      "[5, 500] loss: 0.143\n",
      "[5, 600] loss: 0.143\n",
      "[5, 700] loss: 0.125\n",
      "[5, 800] loss: 0.132\n",
      "[5, 900] loss: 0.134\n",
      "第5个epoch的识别准确率为：96%\n",
      "[6, 100] loss: 0.126\n",
      "[6, 200] loss: 0.126\n",
      "[6, 300] loss: 0.122\n",
      "[6, 400] loss: 0.121\n",
      "[6, 500] loss: 0.111\n",
      "[6, 600] loss: 0.108\n",
      "[6, 700] loss: 0.109\n",
      "[6, 800] loss: 0.116\n",
      "[6, 900] loss: 0.108\n",
      "第6个epoch的识别准确率为：97%\n",
      "[7, 100] loss: 0.107\n",
      "[7, 200] loss: 0.108\n",
      "[7, 300] loss: 0.100\n",
      "[7, 400] loss: 0.099\n",
      "[7, 500] loss: 0.105\n",
      "[7, 600] loss: 0.102\n",
      "[7, 700] loss: 0.088\n",
      "[7, 800] loss: 0.098\n",
      "[7, 900] loss: 0.093\n",
      "第7个epoch的识别准确率为：97%\n",
      "[8, 100] loss: 0.091\n",
      "[8, 200] loss: 0.093\n",
      "[8, 300] loss: 0.091\n",
      "[8, 400] loss: 0.091\n",
      "[8, 500] loss: 0.095\n",
      "[8, 600] loss: 0.085\n",
      "[8, 700] loss: 0.079\n",
      "[8, 800] loss: 0.090\n",
      "[8, 900] loss: 0.085\n",
      "第8个epoch的识别准确率为：97%\n"
     ]
    }
   ],
   "source": [
    "# 训练\n",
    "if __name__ == \"__main__\":\n",
    "\n",
    "    for epoch in range(EPOCH):\n",
    "        sum_loss = 0.0\n",
    "        # 数据读取\n",
    "        for i, data in enumerate(trainloader):\n",
    "            inputs, labels = data\n",
    "            inputs, labels = inputs.to(device), labels.to(device)\n",
    "\n",
    "            # 梯度清零\n",
    "            optimizer.zero_grad()\n",
    "\n",
    "            # forward + backward\n",
    "            outputs = net(inputs)\n",
    "            loss = criterion(outputs, labels)\n",
    "            loss.backward()\n",
    "            optimizer.step()\n",
    "\n",
    "            # 每训练100个batch打印一次平均loss\n",
    "            sum_loss += loss.item()\n",
    "            if i % 100 == 99:\n",
    "                print('[%d, %d] loss: %.03f'\n",
    "                      % (epoch + 1, i + 1, sum_loss / 100))\n",
    "                sum_loss = 0.0\n",
    "        # 每跑完一次epoch测试一下准确率\n",
    "        with torch.no_grad():\n",
    "            correct = 0\n",
    "            total = 0\n",
    "            for data in testloader:\n",
    "                images, labels = data\n",
    "                images, labels = images.to(device), labels.to(device)\n",
    "                outputs = net(images)\n",
    "                # 取得分最高的那个类\n",
    "                _, predicted = torch.max(outputs.data, 1)\n",
    "                total += labels.size(0)\n",
    "                correct += (predicted == labels).sum()\n",
    "            print('第%d个epoch的识别准确率为：%d%%' % (epoch + 1, (100 * correct / total)))\n",
    "    torch.save(net.state_dict(), '%s/net_%03d.pth' % (opt.outf, epoch + 1))"
   ]
  }
 ],
 "metadata": {
  "kernelspec": {
   "display_name": "Python [conda env:torch]",
   "language": "python",
   "name": "conda-env-torch-py"
  },
  "language_info": {
   "codemirror_mode": {
    "name": "ipython",
    "version": 3
   },
   "file_extension": ".py",
   "mimetype": "text/x-python",
   "name": "python",
   "nbconvert_exporter": "python",
   "pygments_lexer": "ipython3",
   "version": "3.8.8"
  }
 },
 "nbformat": 4,
 "nbformat_minor": 5
}
